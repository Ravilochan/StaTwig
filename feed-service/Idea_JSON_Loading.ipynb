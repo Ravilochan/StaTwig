{
 "cells": [
  {
   "cell_type": "code",
   "execution_count": 116,
   "metadata": {},
   "outputs": [],
   "source": [
    "import pandas as pd\n",
    "import sklearn\n",
    "import numpy as np\n",
    "import nltk\n",
    "import re\n",
    "import time\n",
    "import codecs"
   ]
  },
  {
   "cell_type": "code",
   "execution_count": 117,
   "metadata": {},
   "outputs": [],
   "source": [
    "idea = pd.read_csv('./test-data.csv')"
   ]
  },
  {
   "cell_type": "code",
   "execution_count": 118,
   "metadata": {},
   "outputs": [
    {
     "name": "stderr",
     "output_type": "stream",
     "text": [
      "/Users/surabhisinha/anaconda3/lib/python3.7/site-packages/ipykernel_launcher.py:1: FutureWarning: Passing a negative integer is deprecated in version 1.0 and will not be supported in future version. Instead, use None to not limit the column width.\n",
      "  \"\"\"Entry point for launching an IPython kernel.\n"
     ]
    }
   ],
   "source": [
    "pd.set_option('display.max_colwidth', -1)"
   ]
  },
  {
   "cell_type": "code",
   "execution_count": 119,
   "metadata": {},
   "outputs": [
    {
     "data": {
      "text/html": [
       "<div>\n",
       "<style scoped>\n",
       "    .dataframe tbody tr th:only-of-type {\n",
       "        vertical-align: middle;\n",
       "    }\n",
       "\n",
       "    .dataframe tbody tr th {\n",
       "        vertical-align: top;\n",
       "    }\n",
       "\n",
       "    .dataframe thead th {\n",
       "        text-align: right;\n",
       "    }\n",
       "</style>\n",
       "<table border=\"1\" class=\"dataframe\">\n",
       "  <thead>\n",
       "    <tr style=\"text-align: right;\">\n",
       "      <th></th>\n",
       "      <th>_id</th>\n",
       "      <th>idea_description</th>\n",
       "    </tr>\n",
       "  </thead>\n",
       "  <tbody>\n",
       "    <tr>\n",
       "      <th>0</th>\n",
       "      <td>5e8f0b90bab69f6010a9d925</td>\n",
       "      <td>This action thriller movie is going to be a hit</td>\n",
       "    </tr>\n",
       "    <tr>\n",
       "      <th>1</th>\n",
       "      <td>5e8f0c03bab69f6010a9d926</td>\n",
       "      <td>Distributed scalable idea sharing platform</td>\n",
       "    </tr>\n",
       "    <tr>\n",
       "      <th>2</th>\n",
       "      <td>5e90ef1a7dbb6e6d3721cbef</td>\n",
       "      <td>Anti-malarial drug could be effective in COVID-19. It is not a potential drug but could be tried and tested</td>\n",
       "    </tr>\n",
       "    <tr>\n",
       "      <th>3</th>\n",
       "      <td>5e90f7b90907d96d3e8cd1a6</td>\n",
       "      <td>Binary search algorithm could be effective in expediating the testing of COVID-19.</td>\n",
       "    </tr>\n",
       "    <tr>\n",
       "      <th>4</th>\n",
       "      <td>5eb392cdc6b564c77d167a20</td>\n",
       "      <td>Israeli lab confirms breakthrough with virus antibody\\t but says months till cure</td>\n",
       "    </tr>\n",
       "  </tbody>\n",
       "</table>\n",
       "</div>"
      ],
      "text/plain": [
       "                        _id  \\\n",
       "0  5e8f0b90bab69f6010a9d925   \n",
       "1  5e8f0c03bab69f6010a9d926   \n",
       "2  5e90ef1a7dbb6e6d3721cbef   \n",
       "3  5e90f7b90907d96d3e8cd1a6   \n",
       "4  5eb392cdc6b564c77d167a20   \n",
       "\n",
       "                                                                                              idea_description  \n",
       "0  This action thriller movie is going to be a hit                                                              \n",
       "1  Distributed scalable idea sharing platform                                                                   \n",
       "2  Anti-malarial drug could be effective in COVID-19. It is not a potential drug but could be tried and tested  \n",
       "3  Binary search algorithm could be effective in expediating the testing of COVID-19.                           \n",
       "4  Israeli lab confirms breakthrough with virus antibody\\t but says months till cure                            "
      ]
     },
     "execution_count": 119,
     "metadata": {},
     "output_type": "execute_result"
    }
   ],
   "source": [
    "idea.head()"
   ]
  },
  {
   "cell_type": "code",
   "execution_count": 120,
   "metadata": {},
   "outputs": [
    {
     "data": {
      "text/plain": [
       "0      This action thriller movie is going to be a hit                                                                                                                                                                                                                                                                                                                                                                                                                                                                                                                                                                                                                                                                                                                                                       \n",
       "1      Distributed scalable idea sharing platform                                                                                                                                                                                                                                                                                                                                                                                                                                                                                                                                                                                                                                                                                                                                                            \n",
       "2      Anti-malarial drug could be effective in COVID-19. It is not a potential drug but could be tried and tested                                                                                                                                                                                                                                                                                                                                                                                                                                                                                                                                                                                                                                                                                           \n",
       "3      Binary search algorithm could be effective in expediating the testing of COVID-19.                                                                                                                                                                                                                                                                                                                                                                                                                                                                                                                                                                                                                                                                                                                    \n",
       "4      Israeli lab confirms breakthrough with virus antibody\\t but says months till cure                                                                                                                                                                                                                                                                                                                                                                                                                                                                                                                                                                                                                                                                                                                     \n",
       "                                             ...                                                                                                                                                                                                                                                                                                                                                                                                                                                                                                                                                                                                                                                                                                                                                             \n",
       "169    When it comes to stroke intervention\\t a timely response is critical. Prolonged lack of blood flow following a stroke can cause irreversible destruction\\t often resulting in disability. In many cases of stroke\\t intervention methods can be deployed to save tissue. But until now\\t intervention of a stroke has only been recommended within a limited window of time. Released this past year\\t new guidelines suggest an expanded window for treatment. This lengthened timeframe is anticipated to lower the risk of disability and provide opportunity for recovery to an increased number of future stroke patients.                                                                                                                                                                       \n",
       "170    Cancer immunotherapy\\t or biologic therapy\\t is a technique that uses the body’s own immune system to fight cancer. While immunotherapies for cancer have existed for some time\\t the worldwide work toward a cure for cancer continues to highlight new and novel immunotherapeutic targets. Scientists are creating life-changing new cancer treatments through the concepts of joint therapy and engineered T-cells. With the near daily discovery of new immunotherapeutic targets and biomarkers\\t it is the hope that effective therapies will soon exist for all tumor profiles.                                                                                                                                                                                                               \n",
       "171    Though less common than ischemic strokes\\t hemorrhagic strokes – during which blood escapes from a ruptured blood vessel in the brain – are responsible for nearly 40 percent of stroke deaths. Rapid diagnosis is necessary for effective treatment\\t as uncontrolled bleeding can lead to swelling of\\t and damage to\\t the brain. To speed diagnosis\\t healthcare professionals are using new\\t advanced technologies such as the hemorrhage scanning visor\\t which can detect bleeding in the brain. An efficient diagnostic tool\\t the visor for prehospital hemorrhage scanning serves to speed up diagnosis and the ever-important time to treatment.                                                                                                                                          \n",
       "172    Cardiac surgery today is less invasive and more routine and effective than its historic counterpart. Performed percutaneously – via a catheter through the skin – many cardiac procedures no longer require an open heart surgery approach. Two such procedures performed this way include replacements and repair of both the mitral and tricuspid valves. Hot on the trail of aortic valve percutaneous intervention\\t recent percutaneous mitral and tricuspid valve intervention has yielded significant positive outcomes while filling a void in the field of heart surgery. The exploration of this technology in a greater patient population is ongoing\\t but with promising post-op results\\t the innovation has significant implications for the future of cardiac care.                   \n",
       "173    Akin to DNA-based gene therapies\\t RNA-based therapies are the newest innovation in labs nationwide and have shown immense potential. Interfering with genetic data at the ribonucleic acid (RNA) level gives scientists the ability to intercept a patient’s genetic abnormality before it is translated into functioning (or nonfunctioning) proteins. Today\\t the most popular and successful mechanisms of RNA therapy include antisense nucleotides and RNA interference. These new therapies are being explored in a variety of rare genetic diseases such as Huntington’s disease\\t as well as in cancer and neurologic diseases\\t with the hope of treatment by way of alternate genetic data. These new mechanisms of action are opening windows for progress and innovation in therapeutics.\n",
       "Name: idea_description, Length: 174, dtype: object"
      ]
     },
     "execution_count": 120,
     "metadata": {},
     "output_type": "execute_result"
    }
   ],
   "source": [
    "idea['idea_description']"
   ]
  },
  {
   "cell_type": "code",
   "execution_count": 121,
   "metadata": {},
   "outputs": [],
   "source": [
    "def clean_text(text):\n",
    "    stop_words = ['\\x0c', '\\n']\n",
    "    for i in stop_words:\n",
    "        text.replace(i, ' ')\n",
    "    clean_text = re.sub('[^a-zA-Z]+', ' ', text)\n",
    "    return clean_text.lower()"
   ]
  },
  {
   "cell_type": "code",
   "execution_count": 122,
   "metadata": {},
   "outputs": [],
   "source": [
    "idea['idea_description'] = idea['idea_description'].apply(clean_text)"
   ]
  },
  {
   "cell_type": "code",
   "execution_count": 124,
   "metadata": {},
   "outputs": [
    {
     "data": {
      "text/plain": [
       "0    this action thriller movie is going to be a hit                                                                                                                         \n",
       "1    distributed scalable idea sharing platform                                                                                                                              \n",
       "2    anti malarial drug could be effective in covid it is not a potential drug but could be tried and tested                                                                 \n",
       "3    binary search algorithm could be effective in expediating the testing of covid                                                                                          \n",
       "4    israeli lab confirms breakthrough with virus antibody but says months till cure                                                                                         \n",
       "5    ai as a service will allow us to simply feed in our own data and pay for the algorithms or compute resources as we use them                                             \n",
       "6    let the bird of loudest lay on the sole arabian tree herald sad and trumpet be to whose sound chaste wings obey                                                         \n",
       "7    the idea to create a system that can take any kind of waste and automatically sort it into biodegradable and non biodegradable waste                                    \n",
       "8    ranchervm is a containers as service vendor that includes a host of some of the most widely used container orchestration and scheduling frameworks                      \n",
       "9    these are buildings which are constructed from different components each of which is produced on an assembly line to ensure that they are all produced exactly the same \n",
       "Name: idea_description, dtype: object"
      ]
     },
     "execution_count": 124,
     "metadata": {},
     "output_type": "execute_result"
    }
   ],
   "source": [
    "idea.head(10)['idea_description']"
   ]
  },
  {
   "cell_type": "code",
   "execution_count": 125,
   "metadata": {},
   "outputs": [
    {
     "name": "stdout",
     "output_type": "stream",
     "text": [
      "idea description:  there are two steering mechanism generally prevalent with regards to ground vehicles differential or skid steering and ackermann steering mechanism in any case one of the greatest issues with a differential steering is that it squanders energy by sliding the wheels over the ground the ackermann steering regularly found in autos enables the wheels to turn about a similar turning focus the wheels don t slip along the side amid a turn hence no energy is squandered while turning in this project robot is designed utilizing ackermann steering mechanism in this mini robotic vehicle project \n"
     ]
    }
   ],
   "source": [
    "print (\"idea description: \" , idea['idea_description'][30])"
   ]
  },
  {
   "cell_type": "code",
   "execution_count": 126,
   "metadata": {},
   "outputs": [],
   "source": [
    "def tokenize_and_stem(text):\n",
    "    tokens = nltk.word_tokenize(text)\n",
    "    stemmer = nltk.stem.porter.PorterStemmer()\n",
    "    return [i for i in [stemmer.stem(t) for t in tokens] if len(i) > 2]"
   ]
  },
  {
   "cell_type": "code",
   "execution_count": 127,
   "metadata": {},
   "outputs": [
    {
     "name": "stdout",
     "output_type": "stream",
     "text": [
      "[nltk_data] Downloading package punkt to\n",
      "[nltk_data]     /Users/surabhisinha/nltk_data...\n",
      "[nltk_data]   Package punkt is already up-to-date!\n"
     ]
    },
    {
     "data": {
      "text/plain": [
       "True"
      ]
     },
     "execution_count": 127,
     "metadata": {},
     "output_type": "execute_result"
    }
   ],
   "source": [
    "nltk.download('punkt')"
   ]
  },
  {
   "cell_type": "code",
   "execution_count": 128,
   "metadata": {},
   "outputs": [],
   "source": [
    "from sklearn.feature_extraction.text import TfidfVectorizer\n",
    "\n",
    "# Create vectorizer for Abstracts, max_df is set to 0.5, we only want\n",
    "# to include terms that appear in less tha 50% of the documents (i.e. rare terms)\n",
    "tfidf_vectorizer = TfidfVectorizer(max_df=0.5, min_df=0, max_features=200000,\n",
    "               stop_words='english', use_idf=True, tokenizer=tokenize_and_stem)"
   ]
  },
  {
   "cell_type": "code",
   "execution_count": 129,
   "metadata": {},
   "outputs": [],
   "source": [
    "tfidf_weights = abs_tfidf_vectorizer.fit_transform(idea['idea_description'])"
   ]
  },
  {
   "cell_type": "code",
   "execution_count": 130,
   "metadata": {},
   "outputs": [],
   "source": [
    "tfidf_features = abs_tfidf_vectorizer.get_feature_names()"
   ]
  },
  {
   "cell_type": "code",
   "execution_count": 131,
   "metadata": {},
   "outputs": [],
   "source": [
    "def get_top_features(rownum, weights, features, top_k=10):\n",
    "    weight_vec = weights.toarray()[rownum,:]\n",
    "    top_idx = np.argsort(weight_vec)[::-1][:top_k]\n",
    "    return [features[i] for i in top_idx]"
   ]
  },
  {
   "cell_type": "code",
   "execution_count": 132,
   "metadata": {
    "scrolled": true
   },
   "outputs": [
    {
     "data": {
      "text/plain": [
       "['scalabl',\n",
       " 'distribut',\n",
       " 'share',\n",
       " 'platform',\n",
       " 'idea',\n",
       " 'farm',\n",
       " 'far',\n",
       " 'fantasi',\n",
       " 'fan',\n",
       " 'famous']"
      ]
     },
     "execution_count": 132,
     "metadata": {},
     "output_type": "execute_result"
    }
   ],
   "source": [
    "get_top_features(1, tfidf_weights, tfidf_features)"
   ]
  },
  {
   "cell_type": "code",
   "execution_count": 108,
   "metadata": {},
   "outputs": [],
   "source": [
    "\n",
    "# Build model to return 5 closest neighbors\n",
    "from sklearn.neighbors import NearestNeighbors\n",
    "\n",
    "# Create the k-NN model using k=5\n",
    "nn_description = NearestNeighbors(n_neighbors=10, algorithm='auto')\n",
    "\n",
    "# Fit the models to the TF-IDF weights matrix\n",
    "nn_fitted_description = nn_description.fit(tfidf_weights)"
   ]
  },
  {
   "cell_type": "code",
   "execution_count": 109,
   "metadata": {},
   "outputs": [],
   "source": [
    "def find_nearest_papers(row, kNNmodel, tfidf_weights, tfidf_features, papers):\n",
    "    keywords = get_top_features(row, tfidf_weights, tfidf_features)\n",
    "    dist,idx = kNNmodel.kneighbors(tfidf_weights[row,:])\n",
    "    idx = list(idx[0])\n",
    "    return {'data':data.loc[idx], 'keywords':keywords}"
   ]
  },
  {
   "cell_type": "code",
   "execution_count": 110,
   "metadata": {},
   "outputs": [
    {
     "data": {
      "text/html": [
       "<div>\n",
       "<style scoped>\n",
       "    .dataframe tbody tr th:only-of-type {\n",
       "        vertical-align: middle;\n",
       "    }\n",
       "\n",
       "    .dataframe tbody tr th {\n",
       "        vertical-align: top;\n",
       "    }\n",
       "\n",
       "    .dataframe thead th {\n",
       "        text-align: right;\n",
       "    }\n",
       "</style>\n",
       "<table border=\"1\" class=\"dataframe\">\n",
       "  <thead>\n",
       "    <tr style=\"text-align: right;\">\n",
       "      <th></th>\n",
       "      <th>_id</th>\n",
       "      <th>idea_description</th>\n",
       "    </tr>\n",
       "  </thead>\n",
       "  <tbody>\n",
       "    <tr>\n",
       "      <th>1</th>\n",
       "      <td>5e8f0c03bab69f6010a9d926</td>\n",
       "      <td>distributed scalable idea sharing platform</td>\n",
       "    </tr>\n",
       "    <tr>\n",
       "      <th>145</th>\n",
       "      <td>5ed44335c5928e61279a00a3</td>\n",
       "      <td>a door step bike servicing platform and application which will use technology for the convenience of two wheeler owners by providing them a transparent connection with high quality vehicle maintenance providers the platform can provide assisted door step pick up and drop an in built inventory management system that enables reduction of waiting time smarter stock allocation an order management system etc</td>\n",
       "    </tr>\n",
       "    <tr>\n",
       "      <th>150</th>\n",
       "      <td>5ed44381c5928e61279a00a8</td>\n",
       "      <td>a real time car sharing app allows the user to enlist their car and put in the destination as to where they are going another user on the app who is going the same way can put in their destination and find the users with cars who are going in the same direction in the end they can split costs</td>\n",
       "    </tr>\n",
       "    <tr>\n",
       "      <th>7</th>\n",
       "      <td>5eca4791cafd7f1fdf4b7218</td>\n",
       "      <td>the idea to create a system that can take any kind of waste and automatically sort it into biodegradable and non biodegradable waste</td>\n",
       "    </tr>\n",
       "    <tr>\n",
       "      <th>89</th>\n",
       "      <td>5ed31be85f719d5b7ba4ce5b</td>\n",
       "      <td>idea is to control the dc motor speed and direction using raspberry pi you can control the speed of a fan according to the weather outside this will also improve your knowledge of robotics</td>\n",
       "    </tr>\n",
       "    <tr>\n",
       "      <th>134</th>\n",
       "      <td>5ed42a4ec5928e61279a0098</td>\n",
       "      <td>one of the hardest things about dating or being in a long term relationship is deciding where to go on dates build a tool that scours restaurant reviews event calendars and other data for date idea suggestions</td>\n",
       "    </tr>\n",
       "    <tr>\n",
       "      <th>110</th>\n",
       "      <td>5ed42759c5928e61279a0080</td>\n",
       "      <td>drones are useful in a lot of ways they can carry small packages and be controlled from a long distance drones are used a lot in making cinematic videos and photography use your ideas to build a drone using raspberry pi and python</td>\n",
       "    </tr>\n",
       "    <tr>\n",
       "      <th>107</th>\n",
       "      <td>5ed4272bc5928e61279a007d</td>\n",
       "      <td>a good idea project is to make a door locking system that will only open when the authorized person tries to open the door you need to implement a facial recognition system in python and then if the person exists in the database then we give him entry inside the door</td>\n",
       "    </tr>\n",
       "    <tr>\n",
       "      <th>147</th>\n",
       "      <td>5ed44353c5928e61279a00a5</td>\n",
       "      <td>seeing a missing person or a wanted criminals face once on the television is difficult to remember plus there is also a chance of meeting a stranger who turns out to be a criminal that you don t know about an application idea is such that the app will alert you of criminals in your area so that you can save a life as well as help in catching a lawbreaker</td>\n",
       "    </tr>\n",
       "    <tr>\n",
       "      <th>71</th>\n",
       "      <td>5ed315595f719d5b7ba4ce49</td>\n",
       "      <td>the idea was simple burn plant derived biofuels such as maize sugar and corn in engines then the co released would be offset by the amount of gas absorbed by the plants when they grew it appeared you could drive oil free on green gold sadly this was a cruel mirage and when we got close it became clear that the displacement impact of a biofuel boom would lead to the ploughing up of virgin habitats giant monocultures land rights disputes and the truly terrible conundrum of whether to feed the world or power the rich world s private and expanding car fleet in a dramatic fall from grace biofuels crashed and burned however proponents of second generation biofuels say it s not the idea that is at fault just the choice of biomass this time around they advocate using the whole plant and converting waste materials such as cornstalks and leftover sugar cane fibres into cellulosic ethanol that will then power our lives this is reliant on a fledgling process cracking or splitting cellulose into simple hydrocarbons in effect breaking down complex chains and liberating sugars</td>\n",
       "    </tr>\n",
       "  </tbody>\n",
       "</table>\n",
       "</div>"
      ],
      "text/plain": [
       "                          _id  \\\n",
       "1    5e8f0c03bab69f6010a9d926   \n",
       "145  5ed44335c5928e61279a00a3   \n",
       "150  5ed44381c5928e61279a00a8   \n",
       "7    5eca4791cafd7f1fdf4b7218   \n",
       "89   5ed31be85f719d5b7ba4ce5b   \n",
       "134  5ed42a4ec5928e61279a0098   \n",
       "110  5ed42759c5928e61279a0080   \n",
       "107  5ed4272bc5928e61279a007d   \n",
       "147  5ed44353c5928e61279a00a5   \n",
       "71   5ed315595f719d5b7ba4ce49   \n",
       "\n",
       "                                                                                                                                                                                                                                                                                                                                                                                                                                                                                                                                                                                                                                                                                                                                                                                                                                                                                                                                                                                                                                                                                                            idea_description  \n",
       "1    distributed scalable idea sharing platform                                                                                                                                                                                                                                                                                                                                                                                                                                                                                                                                                                                                                                                                                                                                                                                                                                                                                                                                                                                                                                                                               \n",
       "145  a door step bike servicing platform and application which will use technology for the convenience of two wheeler owners by providing them a transparent connection with high quality vehicle maintenance providers the platform can provide assisted door step pick up and drop an in built inventory management system that enables reduction of waiting time smarter stock allocation an order management system etc                                                                                                                                                                                                                                                                                                                                                                                                                                                                                                                                                                                                                                                                                                   \n",
       "150  a real time car sharing app allows the user to enlist their car and put in the destination as to where they are going another user on the app who is going the same way can put in their destination and find the users with cars who are going in the same direction in the end they can split costs                                                                                                                                                                                                                                                                                                                                                                                                                                                                                                                                                                                                                                                                                                                                                                                                                    \n",
       "7    the idea to create a system that can take any kind of waste and automatically sort it into biodegradable and non biodegradable waste                                                                                                                                                                                                                                                                                                                                                                                                                                                                                                                                                                                                                                                                                                                                                                                                                                                                                                                                                                                     \n",
       "89   idea is to control the dc motor speed and direction using raspberry pi you can control the speed of a fan according to the weather outside this will also improve your knowledge of robotics                                                                                                                                                                                                                                                                                                                                                                                                                                                                                                                                                                                                                                                                                                                                                                                                                                                                                                                             \n",
       "134  one of the hardest things about dating or being in a long term relationship is deciding where to go on dates build a tool that scours restaurant reviews event calendars and other data for date idea suggestions                                                                                                                                                                                                                                                                                                                                                                                                                                                                                                                                                                                                                                                                                                                                                                                                                                                                                                        \n",
       "110  drones are useful in a lot of ways they can carry small packages and be controlled from a long distance drones are used a lot in making cinematic videos and photography use your ideas to build a drone using raspberry pi and python                                                                                                                                                                                                                                                                                                                                                                                                                                                                                                                                                                                                                                                                                                                                                                                                                                                                                   \n",
       "107  a good idea project is to make a door locking system that will only open when the authorized person tries to open the door you need to implement a facial recognition system in python and then if the person exists in the database then we give him entry inside the door                                                                                                                                                                                                                                                                                                                                                                                                                                                                                                                                                                                                                                                                                                                                                                                                                                              \n",
       "147  seeing a missing person or a wanted criminals face once on the television is difficult to remember plus there is also a chance of meeting a stranger who turns out to be a criminal that you don t know about an application idea is such that the app will alert you of criminals in your area so that you can save a life as well as help in catching a lawbreaker                                                                                                                                                                                                                                                                                                                                                                                                                                                                                                                                                                                                                                                                                                                                                     \n",
       "71   the idea was simple burn plant derived biofuels such as maize sugar and corn in engines then the co released would be offset by the amount of gas absorbed by the plants when they grew it appeared you could drive oil free on green gold sadly this was a cruel mirage and when we got close it became clear that the displacement impact of a biofuel boom would lead to the ploughing up of virgin habitats giant monocultures land rights disputes and the truly terrible conundrum of whether to feed the world or power the rich world s private and expanding car fleet in a dramatic fall from grace biofuels crashed and burned however proponents of second generation biofuels say it s not the idea that is at fault just the choice of biomass this time around they advocate using the whole plant and converting waste materials such as cornstalks and leftover sugar cane fibres into cellulosic ethanol that will then power our lives this is reliant on a fledgling process cracking or splitting cellulose into simple hydrocarbons in effect breaking down complex chains and liberating sugars   "
      ]
     },
     "execution_count": 110,
     "metadata": {},
     "output_type": "execute_result"
    }
   ],
   "source": [
    "find_nearest_papers(1, nn_fitted_description, tfidf_weights, tfidf_features, data)['data']"
   ]
  },
  {
   "cell_type": "code",
   "execution_count": 111,
   "metadata": {
    "scrolled": true
   },
   "outputs": [
    {
     "data": {
      "text/html": [
       "<div>\n",
       "<style scoped>\n",
       "    .dataframe tbody tr th:only-of-type {\n",
       "        vertical-align: middle;\n",
       "    }\n",
       "\n",
       "    .dataframe tbody tr th {\n",
       "        vertical-align: top;\n",
       "    }\n",
       "\n",
       "    .dataframe thead th {\n",
       "        text-align: right;\n",
       "    }\n",
       "</style>\n",
       "<table border=\"1\" class=\"dataframe\">\n",
       "  <thead>\n",
       "    <tr style=\"text-align: right;\">\n",
       "      <th></th>\n",
       "      <th>_id</th>\n",
       "      <th>idea_description</th>\n",
       "    </tr>\n",
       "  </thead>\n",
       "  <tbody>\n",
       "    <tr>\n",
       "      <th>145</th>\n",
       "      <td>5ed44335c5928e61279a00a3</td>\n",
       "      <td>a door step bike servicing platform and application which will use technology for the convenience of two wheeler owners by providing them a transparent connection with high quality vehicle maintenance providers the platform can provide assisted door step pick up and drop an in built inventory management system that enables reduction of waiting time smarter stock allocation an order management system etc</td>\n",
       "    </tr>\n",
       "  </tbody>\n",
       "</table>\n",
       "</div>"
      ],
      "text/plain": [
       "                          _id  \\\n",
       "145  5ed44335c5928e61279a00a3   \n",
       "\n",
       "                                                                                                                                                                                                                                                                                                                                                                                                            idea_description  \n",
       "145  a door step bike servicing platform and application which will use technology for the convenience of two wheeler owners by providing them a transparent connection with high quality vehicle maintenance providers the platform can provide assisted door step pick up and drop an in built inventory management system that enables reduction of waiting time smarter stock allocation an order management system etc   "
      ]
     },
     "execution_count": 111,
     "metadata": {},
     "output_type": "execute_result"
    }
   ],
   "source": [
    "\n",
    "id = \"5ed44335c5928e61279a00a3\"\n",
    "data[data['_id']==id]"
   ]
  },
  {
   "cell_type": "code",
   "execution_count": 97,
   "metadata": {},
   "outputs": [
    {
     "name": "stderr",
     "output_type": "stream",
     "text": [
      "/Users/surabhisinha/anaconda3/lib/python3.7/site-packages/ipykernel_launcher.py:1: FutureWarning: Passing a negative integer is deprecated in version 1.0 and will not be supported in future version. Instead, use None to not limit the column width.\n",
      "  \"\"\"Entry point for launching an IPython kernel.\n"
     ]
    }
   ],
   "source": []
  },
  {
   "cell_type": "code",
   "execution_count": 112,
   "metadata": {},
   "outputs": [
    {
     "name": "stdout",
     "output_type": "stream",
     "text": [
      "145    a door step bike servicing platform and application which will use technology for the convenience of two wheeler owners by providing them a transparent connection with high quality vehicle maintenance providers the platform can provide assisted door step pick up and drop an in built inventory management system that enables reduction of waiting time smarter stock allocation an order management system etc \n",
      "Name: idea_description, dtype: object\n"
     ]
    }
   ],
   "source": [
    "print(data[data['_id']==id]['idea_description'])"
   ]
  },
  {
   "cell_type": "code",
   "execution_count": 114,
   "metadata": {
    "scrolled": true
   },
   "outputs": [],
   "source": [
    "nearest_data = find_nearest_papers(145, nn_fitted_description, tfidf_weights, tfidf_features, data)"
   ]
  },
  {
   "cell_type": "code",
   "execution_count": 115,
   "metadata": {},
   "outputs": [
    {
     "name": "stdout",
     "output_type": "stream",
     "text": [
      "idea_description: a door step bike servicing platform and application which will use technology for the convenience of two wheeler owners by providing them a transparent connection with high quality vehicle maintenance providers the platform can provide assisted door step pick up and drop an in built inventory management system that enables reduction of waiting time smarter stock allocation an order management system etc \n",
      "\n",
      "idea_description: here we propose a fully automatic garage door opener project system to achieve the design and fabrication of an automated garage door opener system we use a large screw with fabricated door belt pulley connecting rods fixtures mounts motor and supporting frame proposed system will use a fabricate mini door mounted on the threaded screw to efficiently transfer motor power for achieving radial motion of the door we use a pulley and belt arrangement in order to drive the screw by transferring motor power to the screw the screw rotation moves the door in desired direction using threading we use a switch to run the motor in desired direction for both way motion \n",
      "\n",
      "idea_description: a good idea project is to make a door locking system that will only open when the authorized person tries to open the door you need to implement a facial recognition system in python and then if the person exists in the database then we give him entry inside the door \n",
      "\n",
      "idea_description: distributed scalable idea sharing platform\n",
      "\n",
      "idea_description: expandable e bike can convert a single seater bike into seater this seat convercycle will help to reduce the use of private vehicles this e bike can be used as a regular bike and has similar size too this convertible e bike takes less space to park as it can expand till seats when required but while parking we can shrink it back to the standard position in this system the seats are attached in a slider such that it can slide over the slider normally only one person can sit on the e bike but this urban utility electric bike allows to slide to form a seat arrangement locking is provided to lock the seats at the desired position this electric bike is useful to travel in populated areas and this is also pollution free because it works on motor using battery this e bike takes minimum space while parking so it is easy and flexible to park even in crowded parking areas \n",
      "\n",
      "idea_description: in a technologically driven world it s thought that as many as of customers prefer digitally led services telehealth describes a quickly developing technology that allows patients to receive medical care through their digital devices instead of waiting for face to face appointments with their doctor for example highly personalised mobile apps are being developed which allow patients to speak virtually with physicians and other medical professionals to receive instant diagnosis and medical advice with oversubscribed services telehealth gives patients different access points to healthcare when and where they need it it is particularly useful for patients managing chronic conditions as it provides them with consistent convenient and cost effective care the global telemedicine market is expected to be worth billion by \n",
      "\n",
      "idea_description: this system is very beneficial for places where there is a need to pick an object move it and place it to some other place safely if the object is being picked by a human there is a risk of damage to the object which is avoided by this system the system provides a robotic arm that is controlled by rf remote this system also includes a vehicle so that the robotic vehicle can be moved to pick and place object with the help of robotic arm the system uses microcontroller that is interfaced to the rf receiver this rf receiver receives commands that are sent by the rf remote as soon as the user presses the push buttons the commands are sent to the rf remote which makes the arm move in the specified up or down direction or grip open or close thus this remote controlled pick and place robotic arm vehicle project can be used to safely pick up an object move it and place it anywhere you want the receiver circuit uses the motors to control the movement of the vehicle via rf remote \n",
      "\n",
      "idea_description: factories industries and storage go downs need forklifts and cranes for storage and moving large goods also there are a number of goods weighing around kgs that are comparatively lighter but cannot be moved around easily by human labor to fill this need we here propose a wheel drive forklift to lift and transport such medium weight goods across factories industrial warehouses the wheel drive is a fast efficient and low power consumption vehicle that does not require much space to move around the mini forklift will run on dc motors and can drive small weight with pickup arrangement across small distances easily for this we use a mini wheel vehicle body frame designed with a platform with motorized wheel mounts it has a perpendicular handle ahead to hold on as well as take turns also we design a forklift type mechanism on the front handle of vehicle using bent metal strips and lifting mechanism the lift mechanism comprises of large rotating chain mechanism this mechanism is connected to a high power motor we now mount the control circuitry on the vehicle with wireless controllers that allow the vehicle to be controlled by person on it as well as by operating it remotely from meters range thus we provide a remote controlled forklift for small goods transportation in industrial sector the demonstration version can lift kgs to demonstrate the concept \n",
      "\n",
      "idea_description: the home automation system is a big project you can automate most of your home appliances like fans lights tv door music system etc you can send signals from your smartphone and control all the devices remotely \n",
      "\n",
      "idea_description: a healthy lifestyle web application targeting health conscious people to track their habits assisted by registered nutritionists pathologists and health coaches in order to ultimately lower the risk of lifestyle disorders the application would be equipped with several charts that help the user manage their overall health like weight sugar heart rate blood pressure etc user is also equipped with individual meal charts lifestyle plans nutrition plans as per their condition it will also be integrated with chat facility that allows users to talk with the community as well as health professionals \n",
      "\n"
     ]
    }
   ],
   "source": [
    "for i in nearest_data['data']['idea_description']: print (\"idea_description: \"+i+\"\\n\")"
   ]
  }
 ],
 "metadata": {
  "kernelspec": {
   "display_name": "Python 3",
   "language": "python",
   "name": "python3"
  },
  "language_info": {
   "codemirror_mode": {
    "name": "ipython",
    "version": 3
   },
   "file_extension": ".py",
   "mimetype": "text/x-python",
   "name": "python",
   "nbconvert_exporter": "python",
   "pygments_lexer": "ipython3",
   "version": "3.7.2"
  }
 },
 "nbformat": 4,
 "nbformat_minor": 2
}
